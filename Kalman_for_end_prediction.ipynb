{
  "nbformat": 4,
  "nbformat_minor": 0,
  "metadata": {
    "colab": {
      "name": "Kalman for end prediction.ipynb",
      "provenance": [],
      "collapsed_sections": [],
      "include_colab_link": true
    },
    "kernelspec": {
      "display_name": "Python 3",
      "name": "python3"
    },
    "language_info": {
      "name": "python"
    }
  },
  "cells": [
    {
      "cell_type": "markdown",
      "metadata": {
        "id": "view-in-github",
        "colab_type": "text"
      },
      "source": [
        "<a href=\"https://colab.research.google.com/github/greymouse1/Kalman-filter/blob/main/Kalman_for_end_prediction.ipynb\" target=\"_parent\"><img src=\"https://colab.research.google.com/assets/colab-badge.svg\" alt=\"Open In Colab\"/></a>"
      ]
    },
    {
      "cell_type": "code",
      "metadata": {
        "colab": {
          "base_uri": "https://localhost:8080/"
        },
        "id": "g-cuDbHD4_h-",
        "outputId": "07d5cfce-204c-4300-9e50-3b9a5285c54c"
      },
      "source": [
        "!pip install pyproj\n"
      ],
      "execution_count": null,
      "outputs": [
        {
          "output_type": "stream",
          "text": [
            "Requirement already satisfied: pyproj in /usr/local/lib/python3.7/dist-packages (3.1.0)\n",
            "Requirement already satisfied: certifi in /usr/local/lib/python3.7/dist-packages (from pyproj) (2021.5.30)\n"
          ],
          "name": "stdout"
        }
      ]
    },
    {
      "cell_type": "code",
      "metadata": {
        "id": "wxnTUcJr7IgR"
      },
      "source": [
        "import numpy as np\n",
        "import csv\n",
        "from datetime import datetime\n",
        "import math\n",
        "import matplotlib.pyplot as plt\n",
        "import pyproj\n",
        "import pandas as pd\n",
        "import statistics as stat"
      ],
      "execution_count": null,
      "outputs": []
    },
    {
      "cell_type": "code",
      "metadata": {
        "colab": {
          "base_uri": "https://localhost:8080/"
        },
        "id": "R0NDUctbeXIo",
        "outputId": "54a51c79-89bb-46c6-f278-fd9b342cb3c3"
      },
      "source": [
        "from google.colab import drive\n",
        "drive.mount('/content/drive')"
      ],
      "execution_count": null,
      "outputs": [
        {
          "output_type": "stream",
          "text": [
            "Drive already mounted at /content/drive; to attempt to forcibly remount, call drive.mount(\"/content/drive\", force_remount=True).\n"
          ],
          "name": "stdout"
        }
      ]
    },
    {
      "cell_type": "code",
      "metadata": {
        "id": "XuhcfdB61dFR"
      },
      "source": [
        ""
      ],
      "execution_count": null,
      "outputs": []
    },
    {
      "cell_type": "code",
      "metadata": {
        "id": "dCYQZVqCkWWD"
      },
      "source": [
        "#This chunk of code will take out all timestamps, and calculate time differences\n",
        "#between current and previous timestamp\n",
        "#Import csv files\n",
        "filename = \"/content/drive/MyDrive/ColabNotebooks_shared/ShipRouting/nikola_test/IMO10022205_end_prediction.csv\"\n",
        "with open (filename) as csv_file:\n",
        "  ship1_csv = csv.reader(csv_file, delimiter = \",\")\n",
        "  time_holder = []\n",
        "  differences_holder = []\n",
        "  timestamps = []\n",
        "  # create array with timestamps\n",
        "  for line_count,row in enumerate(ship1_csv,0):\n",
        "    if line_count > 0:            # jumps over first row since first row is only description\n",
        "      time_holder.append(row[2])  # select time which lies on index 2 in csv file\n",
        "\n",
        "  # parse timestamps and calculate time difference between current and prevous point\n",
        "  fmt = '%Y-%m-%d %H:%M:%S'\n",
        "  for i in range(1,len(time_holder)):\n",
        "    tstamp1 = datetime.strptime(time_holder[i-1], fmt)\n",
        "    tstamp2 = datetime.strptime(time_holder[i], fmt)\n",
        "    if tstamp2 > tstamp1:\n",
        "      diff = tstamp2 - tstamp1\n",
        "      diff = diff.total_seconds()\n",
        "    else:\n",
        "      diff = tstamp1 - tstamp2\n",
        "      diff = diff.total_seconds()\n",
        "    differences_holder.append(diff)\n"
      ],
      "execution_count": null,
      "outputs": []
    },
    {
      "cell_type": "code",
      "metadata": {
        "id": "1iwOsPFtk9ws"
      },
      "source": [
        "# This chunk of code will create zk_vector_holder with sensor readings(lat,lon,cog) and \n",
        "# control_vector_holder with speed of boat and angular speed\n",
        "\n",
        "# Import csv files\n",
        "with open (filename) as csv_file:\n",
        "  ship1_csv = csv.reader(csv_file, delimiter = \",\")\n",
        "  zk_vector_holder = []\n",
        "  control_vector_holder = []\n",
        "  for line_count,row in enumerate(ship1_csv,0):\n",
        "    if line_count > 0: #starts populating from first AIS message\n",
        "      \n",
        "      # create zk vector with sensor readings\n",
        "      if float(row[   6]) < 0:\n",
        "        angle = 360 + float(row[6])\n",
        "      else:\n",
        "        angle = float(row[6])\n",
        "      angle_rad = (angle*math.pi)/180\n",
        "      \n",
        "      # convert LAT(y), LON(x) to N(y),E(x)\n",
        "      proj = pyproj.Transformer.from_crs(4326, 2831, always_xy=True)\n",
        "      lon1, lat1 = (float(row[4]), float(row[3]))\n",
        "      easting, northing = proj.transform(lon1, lat1)\n",
        "      \n",
        "      # append converted coordinates\n",
        "      zk_vector_holder.append([easting,northing,angle_rad]) #holder for E,N and COG\n",
        "    \n",
        "    if line_count > 1: #starts populating from second AIS message\n",
        "      angle_difference = angle_rad - zk_vector_holder[line_count-2][2]\n",
        "      \n",
        "      # populate control vector with speed(m/s) and angular speed(rad/s)\n",
        "      control_vector_holder.append([(float(row[5]))*0.5144,angle_difference/differences_holder[line_count-2]]) #holder for speed and angular speed\n",
        "  \n",
        "  zk_vector_holder.pop(0)"
      ],
      "execution_count": null,
      "outputs": []
    },
    {
      "cell_type": "code",
      "metadata": {
        "id": "57f_q_9ohQWa"
      },
      "source": [
        "# Since zk_vector_holder is used as a source of observations, it will be needed\n",
        "# for calculations inside Kalman filter. As we will be doing predictions, we\n",
        "# need to replace some of these observations with [0,0,0] inside zk_vector_holder\n",
        "# so when Kalman filter encounters zeores, it will make predictions.\n",
        "# We still need original observations for comparison, hence we make a copy of\n",
        "# zk_vector_holder which will be used for calculating delta_x and delta_y between\n",
        "# observation and prediction, and for plotting original observations as well\n",
        "# We need to make a deep copy of original array, so subsequent changes on original\n",
        "# array (zk_vector_holder) don't change our copy\n",
        "\n",
        "original_observations = zk_vector_holder.copy()"
      ],
      "execution_count": null,
      "outputs": []
    },
    {
      "cell_type": "code",
      "metadata": {
        "id": "Vx2A2HAPlf_v"
      },
      "source": [
        "# We will allow Kalman filter to use first 20 observations as \"training\".\n",
        "# After initial 20 observations, we won't supply any more sensor observations\n",
        "# and it will produce predictions. For this to be possible, zk_vector_holder\n",
        "# is populated with zero triplets for all observations after 20th\n",
        "\n",
        "for i in range(0,len(zk_vector_holder)):\n",
        "  if i >= 20:\n",
        "    zk_vector_holder[i] = [0,0,0]\n"
      ],
      "execution_count": null,
      "outputs": []
    },
    {
      "cell_type": "code",
      "metadata": {
        "id": "2DOHyGxJnNpX"
      },
      "source": [
        "# Since we still need to have data for control vector, we will make assumptions\n",
        "# Our assumed speed can be average of last 10 known speeds and turn rate can be\n",
        "# set as 0 since we assume ship will try to keep its last course and variations\n",
        "# in turn rate are usually necessary to keep it on course\n",
        "\n",
        "mean_speed = []\n",
        "for i in range(10,20):\n",
        "  mean_speed.append(control_vector_holder[i][0]) \n",
        "mean_speed = stat.mean(mean_speed)\n",
        "\n",
        "for i in range(20,len(control_vector_holder)):\n",
        "    control_vector_holder[i] = [mean_speed,0]\n"
      ],
      "execution_count": null,
      "outputs": []
    },
    {
      "cell_type": "code",
      "metadata": {
        "colab": {
          "base_uri": "https://localhost:8080/"
        },
        "id": "n5sU7jXbRpPX",
        "outputId": "2dcc2852-ce84-4422-f7da-a4de5d6fbf88"
      },
      "source": [
        "print(differences_holder)\n",
        "print(zk_vector_holder)\n",
        "print(control_vector_holder)\n",
        "print(len(differences_holder))\n",
        "print(len(zk_vector_holder))\n",
        "print(len(control_vector_holder))\n"
      ],
      "execution_count": null,
      "outputs": [
        {
          "output_type": "stream",
          "text": [
            "[70.0, 69.0, 70.0, 71.0, 70.0, 70.0, 69.0, 71.0, 79.0, 70.0, 61.0, 69.0, 70.0, 71.0, 69.0, 71.0, 69.0, 70.0, 70.0, 70.0, 70.0, 71.0, 70.0, 69.0, 70.0, 61.0, 70.0, 70.0, 70.0, 71.0, 69.0, 80.0, 69.0, 81.0, 69.0, 81.0, 70.0, 70.0, 69.0, 71.0, 70.0, 70.0, 61.0, 69.0, 70.0, 70.0, 69.0, 71.0, 69.0, 70.0, 80.0, 10.0, 70.0, 71.0, 69.0, 71.0, 70.0, 61.0]\n",
            "[[430808.7008042552, 46145.169313537335, 0.9075712110370514], [431019.17226523056, 46312.148166865074, 0.879645943005142], [431236.30885401036, 46484.804314579946, 0.9250245035569946], [431459.26301563426, 46663.12333755212, 0.9110618695410401], [431616.2537929958, 46788.07821226596, 0.9320058205649718], [431709.0993747625, 46853.033071768, 1.0157816246606999], [431784.57996017474, 46894.357078119916, 1.3072516097437528], [431852.59863481636, 46926.66407125188, 1.0716321607245183], [431875.65312829916, 46915.967626395046, 1.18507856210415], [431963.7711958322, 46960.85015647113, 0.9756390518648301], [432132.67787150614, 47081.585753472296, 0.9546951008408984], [432349.96414355416, 47243.171722195766, 0.9581857593448869], [432573.06720587297, 47410.42145162677, 0.9599310885968813], [432802.87240262993, 47581.130056453876, 0.9564404300928925], [433021.882095307, 47739.4352351193, 0.9564404300928925], [433252.53315099084, 47909.0627175601, 0.9721483933608416], [433469.7907287321, 48069.571313809036, 0.9896016858807848], [433692.8836732126, 48234.634268419, 0.9721483933608416], [433916.79301372106, 48400.82952871699, 0.9564404300928925], [434139.825851446, 48568.126543046106, 0.9232791743050003], [0, 0, 0], [0, 0, 0], [0, 0, 0], [0, 0, 0], [0, 0, 0], [0, 0, 0], [0, 0, 0], [0, 0, 0], [0, 0, 0], [0, 0, 0], [0, 0, 0], [0, 0, 0], [0, 0, 0], [0, 0, 0], [0, 0, 0], [0, 0, 0], [0, 0, 0], [0, 0, 0], [0, 0, 0], [0, 0, 0], [0, 0, 0], [0, 0, 0], [0, 0, 0], [0, 0, 0], [0, 0, 0], [0, 0, 0], [0, 0, 0], [0, 0, 0], [0, 0, 0], [0, 0, 0], [0, 0, 0], [0, 0, 0], [0, 0, 0], [0, 0, 0], [0, 0, 0], [0, 0, 0], [0, 0, 0], [0, 0, 0]]\n",
            "[[3.96088, 4.98665500569825e-05], [4.01232, -0.00040471402944796265], [3.96088, 0.0006482651507407519], [3.9094399999999996, -0.00019665681712612034], [1.9547199999999998, 0.0002991993003418823], [1.33744, 0.0011967972013675436], [1.1831199999999997, 0.004224202682363085], [0.66872, -0.0033185837890033027], [0.41152, 0.0014360303972105277], [2.572, -0.0029919930034188547], [3.8579999999999997, -0.0003433434594087174], [4.06376, 5.058925368099352e-05], [4.01232, 2.4933275028490457e-05], [3.9094399999999996, -4.9164204281532044e-05], [3.96088, 0.0], [3.8579999999999997, 0.00022123891926688872], [3.9094399999999996, 0.000252946268404974], [4.01232, -0.000249332750284903], [3.96088, -0.0002243994752564157], [3.9094399999999996, -0.0004737322255413171], [3.945448, 0], [3.945448, 0], [3.945448, 0], [3.945448, 0], [3.945448, 0], [3.945448, 0], [3.945448, 0], [3.945448, 0], [3.945448, 0], [3.945448, 0], [3.945448, 0], [3.945448, 0], [3.945448, 0], [3.945448, 0], [3.945448, 0], [3.945448, 0], [3.945448, 0], [3.945448, 0], [3.945448, 0], [3.945448, 0], [3.945448, 0], [3.945448, 0], [3.945448, 0], [3.945448, 0], [3.945448, 0], [3.945448, 0], [3.945448, 0], [3.945448, 0], [3.945448, 0], [3.945448, 0], [3.945448, 0], [3.945448, 0], [3.945448, 0], [3.945448, 0], [3.945448, 0], [3.945448, 0], [3.945448, 0], [3.945448, 0]]\n",
            "58\n",
            "58\n",
            "58\n"
          ],
          "name": "stdout"
        }
      ]
    },
    {
      "cell_type": "code",
      "metadata": {
        "id": "i75QzHFPMhVt"
      },
      "source": [
        "#So now we have everything we need to input into calculation below:\n",
        "#Vector holding time differences, dk or dt, here called differences_holder\n",
        "#Vector holding sensor observations(LAT LON and COG) zk_vector_holder\n",
        "#Vector holding control signals(speed of vessel and angular speed) control_vector_holder"
      ],
      "execution_count": null,
      "outputs": []
    },
    {
      "cell_type": "code",
      "metadata": {
        "id": "PsNdZBsV7fTS"
      },
      "source": [
        "# Author: Addison Sears-Collins\n",
        "# https://automaticaddison.com\n",
        "# Description: Extended Kalman Filter example (two-wheeled mobile robot)"
      ],
      "execution_count": null,
      "outputs": []
    },
    {
      "cell_type": "code",
      "metadata": {
        "id": "3grZoX_57nc2"
      },
      "source": [
        "# Supress scientific notation when printing NumPy arrays\n",
        "np.set_printoptions(precision=3,suppress=True)"
      ],
      "execution_count": null,
      "outputs": []
    },
    {
      "cell_type": "code",
      "metadata": {
        "id": "z2LuLx3A_pxv"
      },
      "source": [
        "# AIS message will give us the following information:\n",
        "# MMSI number\n",
        "# Timestamp\n",
        "# Longitude and latitude\n",
        "# Course over ground\n",
        "# Speed over ground"
      ],
      "execution_count": null,
      "outputs": []
    },
    {
      "cell_type": "code",
      "metadata": {
        "id": "4QkE5Afu7qE3"
      },
      "source": [
        "# A matrix\n",
        "# 3x3 matrix -> number of states x number of states matrix\n",
        "# Expresses how the state of the system [x,y,yaw] changes \n",
        "# from k-1 to k when no control command is executed.\n",
        "# Typically a robot on wheels only drives when the wheels are told to turn.\n",
        "# For this case, A is the identity matrix.\n",
        "# A is sometimes F in the literature.\n",
        "A_k_minus_1 = np.array([[1.0,0,0],[0,1.0,0],[0,0,1.0]])"
      ],
      "execution_count": null,
      "outputs": []
    },
    {
      "cell_type": "code",
      "metadata": {
        "id": "CFgpliKu8sUn"
      },
      "source": [
        "# Noise applied to the forward kinematics (calculation\n",
        "# of the estimated state at time k from the state\n",
        "# transition model of the mobile robot). This is a vector\n",
        "# with the number of elements equal to the number of states.\n",
        "# Noise here should account for randomness in real world\n",
        "# and since I already added sensor noise, and state vector\n",
        "# is same as Observation model vector, I kept small random\n",
        "# numbers\n",
        "def calculate_process_noise_v_k_minus_1():\n",
        "  process_noise_x = np.random.normal(0, 1) #mean, standard deviation\n",
        "  process_noise_y = np.random.normal(0, 1)\n",
        "  process_noise_gamma = np.random.normal(0, 0.01)  \n",
        "  print(\"process_noise:\", process_noise_x, process_noise_y, process_noise_gamma)\n",
        "  return np.array([process_noise_x,process_noise_y,process_noise_gamma])"
      ],
      "execution_count": null,
      "outputs": []
    },
    {
      "cell_type": "code",
      "metadata": {
        "id": "IyVUOIEd80_P"
      },
      "source": [
        "# State model noise covariance matrix Q_k\n",
        "# When Q is large, the Kalman Filter tracks large changes in \n",
        "# the sensor measurements more closely than for smaller Q.\n",
        "# Q is a square matrix that has the same number of rows as states.\n",
        "Q_k = np.array([[1,0,0],[0,1,0],[0,0,1]])"
      ],
      "execution_count": null,
      "outputs": []
    },
    {
      "cell_type": "code",
      "metadata": {
        "id": "s45KirnO9JGR"
      },
      "source": [
        "# Measurement matrix H_k\n",
        "# Used to convert the predicted state estimate at time k\n",
        "# into predicted sensor measurements at time k.\n",
        "# In this case, H will be the identity matrix since the \n",
        "# estimated state maps directly to state measurements from the \n",
        "# odometry data [x, y, yaw]\n",
        "# H has the same number of rows as sensor measurements\n",
        "# and same number of columns as states.\n",
        "H_k = np.array([[1.0,0,0],[0,1.0,0],[0,0,1.0]])"
      ],
      "execution_count": null,
      "outputs": []
    },
    {
      "cell_type": "code",
      "metadata": {
        "id": "V4IX238n9VJv"
      },
      "source": [
        "# Sensor measurement noise covariance matrix R_k\n",
        "# Has the same number of rows and columns as sensor measurements.\n",
        "# If we are sure about the measurements, R will be near zero.\n",
        "R_k = np.array([[1.0,0,0],[0,1.0,0],[0,0,1.0]]) "
      ],
      "execution_count": null,
      "outputs": []
    },
    {
      "cell_type": "code",
      "metadata": {
        "id": "Q04TNK4t9lsF"
      },
      "source": [
        "# Sensor noise. This is a vector with the\n",
        "# number of elements equal to the number of sensor measurements.\n",
        "# In our case, for the ship, noise for sensors would be standard\n",
        "# deviation given for GPS receiver of the ship and accuracy of \n",
        "# gyrocompass or usually in new ships it is heading derived from\n",
        "# combination of gyrocompass and GPS. I chose 0.6m for GPS and 0.1 degree\n",
        "# for gyro which is given below in radians\n",
        "sensor_noise_w_k = np.array([0.6,0.6,0.001744])"
      ],
      "execution_count": null,
      "outputs": []
    },
    {
      "cell_type": "code",
      "metadata": {
        "id": "W7cqwTZ_9nLj"
      },
      "source": [
        "# Now when all matrices are set, we have to go through two steps:\n",
        "# First step:\n",
        "# 1.Initialization of values for time t-1\n",
        "# 2.Predict state at time t based on state at time t-1 and control input at t-1\n",
        "# 3.Predict state covariance estimate based on previous covariance and some noise (APAt + Q)\n",
        "# where A is calculated in previous step, P is covariance of state estimate at t-1, and\n",
        "# Q is state model noise covariance matrix \n",
        "# Second step:\n",
        "# 4.Innovation or measurement residual which is in essence difference betweeen\n",
        "# actual readings from sensors (in our case estimated state vector at time t) and \n",
        "# estimated sensor reading at time t\n",
        "# 5.Innovation or residual covariance\n",
        "# 6.Near optimal Kalman gain\n",
        "# 7.Updated state estimate\n",
        "# 8.Updated covariance of state estimate"
      ],
      "execution_count": null,
      "outputs": []
    },
    {
      "cell_type": "code",
      "metadata": {
        "id": "Alk7UJutyAul"
      },
      "source": [
        "def getB(yaw, deltak):\n",
        "    \"\"\"\n",
        "    Calculates and returns the B matrix\n",
        "    3x2 matix -> number of states x number of control inputs\n",
        "    The control inputs are the forward speed and the\n",
        "    rotation rate around the z axis from the x-axis in the \n",
        "    counterclockwise direction.\n",
        "    [v,yaw_rate]\n",
        "    Expresses how the state of the system [x,y,yaw] changes\n",
        "    from k-1 to k due to the control commands (i.e. control input).\n",
        "    :param yaw: The yaw angle (rotation angle around the z axis) in rad, this is actually ship's heading\n",
        "    :param deltak: The change in time from time step k-1 to k in sec, this is time between two AIS messages\n",
        "    \"\"\"\n",
        "    if yaw > 0 and yaw < (math.pi)/2:\n",
        "      delta_e = abs(np.sin(yaw)*deltak)\n",
        "      delta_n = abs(np.cos(yaw)*deltak)\n",
        "    elif yaw > (math.pi)/2 and yaw < math.pi:\n",
        "      delta_e = abs(np.sin(yaw)*deltak)\n",
        "      delta_n = -(abs(np.cos(yaw)*deltak))\n",
        "    elif yaw > math.pi and yaw < (math.pi)*(3/2):\n",
        "      delta_e = -(abs(np.sin(yaw)*deltak))\n",
        "      delta_n = -(abs(np.cos(yaw)*deltak))\n",
        "    else:\n",
        "      delta_e = -(abs(np.sin(yaw)*deltak))\n",
        "      delta_n = abs(np.cos(yaw)*deltak)\n",
        "\n",
        "    B = np.array([[delta_e,0],[delta_n,0],[0,deltak]])\n",
        "    return B"
      ],
      "execution_count": null,
      "outputs": []
    },
    {
      "cell_type": "code",
      "metadata": {
        "id": "OL72nXz1yw3k"
      },
      "source": [
        "def ekf(z_k_observation_vector, state_estimate_k_minus_1, \n",
        "        control_vector_k_minus_1, P_k_minus_1, dk):\n",
        "    \"\"\"\n",
        "    Extended Kalman Filter. Fuses noisy sensor measurement to \n",
        "    create an optimal estimate of the state of the robotic system.\n",
        "         \n",
        "    INPUT\n",
        "        :param z_k_observation_vector The observation from the Odometry\n",
        "            3x1 NumPy Array [x,y,yaw] in the global reference frame\n",
        "            in [meters,meters,radians].\n",
        "        :param state_estimate_k_minus_1 The state estimate at time k-1\n",
        "            3x1 NumPy Array [x,y,yaw] in the global reference frame\n",
        "            in [meters,meters,radians].\n",
        "        :param control_vector_k_minus_1 The control vector applied at time k-1\n",
        "            3x1 NumPy Array [v,yaw rate] in the global reference frame\n",
        "            in [meters per second,radians per second].\n",
        "        :param P_k_minus_1 The state covariance matrix estimate at time k-1\n",
        "            3x3 NumPy Array\n",
        "        :param dk Time interval in seconds\n",
        "             \n",
        "    OUTPUT\n",
        "        :return state_estimate_k near-optimal state estimate at time k  \n",
        "            3x1 NumPy Array ---> [meters,meters,radians]\n",
        "        :return P_k state covariance_estimate for time k\n",
        "            3x3 NumPy Array                 \n",
        "    \"\"\"\n",
        "    ######################### Predict #############################\n",
        "    # Predict the state estimate at time k based on the state \n",
        "    # estimate at time k-1 and the control input applied at time k-1.\n",
        "    state_estimate_k = A_k_minus_1 @ (\n",
        "            state_estimate_k_minus_1) + (\n",
        "            getB(state_estimate_k_minus_1[2],dk)) @ (\n",
        "            control_vector_k_minus_1) + calculate_process_noise_v_k_minus_1()\n",
        "    \n",
        "\n",
        "    print(f'State Estimate Before EKF, based only on input signal and state at time t-1 ={state_estimate_k}')\n",
        "\n",
        "    if z_k_observation_vector[0] != 0: # this if clause is for case when we have observations\n",
        "      ################### Update (Correct) ##########################\n",
        "      # Calculate the difference between the actual sensor measurements\n",
        "      # at time k minus what the measurement model predicted \n",
        "      # the sensor measurements would be for the current timestep k.\n",
        "    \n",
        "      measurement_residual_y_k = z_k_observation_vector - (\n",
        "            (H_k @ state_estimate_k) + sensor_noise_w_k)\n",
        "    \n",
        "      # Predict the state covariance estimate based on the previous\n",
        "      # covariance and some noise\n",
        "      P_k = A_k_minus_1 @ P_k_minus_1 @ A_k_minus_1.T + (\n",
        "            Q_k)\n",
        "      print(f'Observation residual={z_k_observation_vector}')\n",
        "             \n",
        "      # Calculate the measurement residual covariance\n",
        "      S_k = H_k @ P_k @ H_k.T + R_k\n",
        "         \n",
        "      # Calculate the near-optimal Kalman gain\n",
        "      # We use pseudoinverse since some of the matrices might be\n",
        "      # non-square or singular.\n",
        "      K_k = P_k @ H_k.T @ np.linalg.pinv(S_k)\n",
        "\n",
        "      # Calculate an updated state estimate for time k\n",
        "      state_estimate_k = state_estimate_k + (K_k @ measurement_residual_y_k)\n",
        "\n",
        "      # Update the state covariance estimate for time k\n",
        "      P_k = P_k - (K_k @ H_k @ P_k)\n",
        "    else: #this else clause is for case when we don't have observations anymore and we make projections\n",
        "      P_k = A_k_minus_1 @ P_k_minus_1 @ A_k_minus_1.T + (\n",
        "            Q_k)\n",
        "    \n",
        "     \n",
        "    # Print the best (near-optimal) estimate of the current state of the robot\n",
        "    print(f'State Estimate After EKF={state_estimate_k}')\n",
        " \n",
        "    # Return the updated state and covariance estimates\n",
        "    return state_estimate_k, P_k"
      ],
      "execution_count": null,
      "outputs": []
    },
    {
      "cell_type": "code",
      "metadata": {
        "colab": {
          "base_uri": "https://localhost:8080/"
        },
        "id": "yYTnwpzP4jQo",
        "outputId": "c85c482d-f4ea-4be7-bf01-de57d648236b"
      },
      "source": [
        "# holder for filtered observations\n",
        "filtered_observations = []\n",
        "\n",
        "#holder for P_k matrices\n",
        "p_k_holder = []\n",
        "\n",
        "# class for main Kalman filter which is taking real sensor observations\n",
        "def main():\n",
        "\n",
        "    # We start at time k=1\n",
        "    k = 1\n",
        "\n",
        "    # Create a list of sensor observations at successive timesteps\n",
        "    # Each list within z_k is an observation vector.\n",
        "    z_k = np.array(zk_vector_holder)\n",
        "\n",
        "    # The estimated state vector at time k-1 in the global reference frame.\n",
        "    # This is initial value which is needed only at the beginning of the\n",
        "    # filtering process\n",
        "    # [x_k_minus_1, y_k_minus_1, yaw_k_minus_1]\n",
        "    # [meters, meters, radians]\n",
        "    state_estimate_k_minus_1 = np.array(zk_vector_holder[k-1])\n",
        "    print(\"Initial estimate is:\", state_estimate_k_minus_1)\n",
        "\n",
        "    # Since first observation goes to state_estimate_k_minus_1, we can remove\n",
        "    # it from the vector\n",
        "    z_k = np.array(z_k[1:])\n",
        "     \n",
        "    # State covariance matrix P_k_minus_1\n",
        "    # This matrix has the same number of rows (and columns) as the \n",
        "    # number of states (i.e. 3x3 matrix). P is sometimes referred\n",
        "    # to as Sigma in the literature. It represents an estimate of \n",
        "    # the accuracy of the state estimate at time k made using the\n",
        "    # state transition matrix. We start off with guessed values.\n",
        "    # On diagonal I put variances of sensors, so squares values from\n",
        "    # sensor_noise_w_k, and covariances I don't know so I just put 0\n",
        "    # these values will anyway be updated by the filter\n",
        "    P_k_minus_1 = np.array([[sensor_noise_w_k[0]**2,0,0],[0,sensor_noise_w_k[1]**2,0],[0,0,sensor_noise_w_k[2]**2]])\n",
        "    print(\"pk minus 1 is\", P_k_minus_1)                      \n",
        "    # Start at k=1 and go through all observations in z_k vector, \n",
        "    # one at a time. \n",
        "    # We stop when last observation is processed\n",
        "    for k, obs_vector_z_k in enumerate(z_k,start=1):\n",
        "\n",
        "        # Take in current time difference\n",
        "        # Time difference on index 0 is not used since this is differrence between first and second \n",
        "        # records\n",
        "        dk = differences_holder[k]\n",
        "\n",
        "        # Iterate through all control inputs in control vector\n",
        "        # The control input vector at time k-1 in the global reference frame.\n",
        "        # [v, yaw_rate]\n",
        "        # [meters/second, radians/second]\n",
        "        # In the literature, this is commonly u.\n",
        "        control_vector_k_minus_1 = np.array(control_vector_holder[k-1])\n",
        "    \n",
        "        # Print the current timestep\n",
        "        print(f'Timestep k={k}')  \n",
        "         \n",
        "        # Run the Extended Kalman Filter and store the \n",
        "        # near-optimal state and covariance estimates\n",
        "        optimal_state_estimate_k, covariance_estimate_k = ekf(\n",
        "            obs_vector_z_k,           # Most recent sensor measurement\n",
        "            state_estimate_k_minus_1, # Our most recent estimate of the state\n",
        "            control_vector_k_minus_1, # Our most recent control input\n",
        "            P_k_minus_1,              # Our most recent state covariance matrix\n",
        "            dk)                       # Time interval\n",
        "        \n",
        "        # Append filtered observation for current location to the array\n",
        "        # in order so we can plot the later\n",
        "        filtered_observations.append(optimal_state_estimate_k)\n",
        "        \n",
        "        # Get ready for the next timestep by updating the variable values\n",
        "        state_estimate_k_minus_1 = optimal_state_estimate_k\n",
        "        P_k_minus_1 = covariance_estimate_k\n",
        "        p_k_holder.append(P_k_minus_1)\n",
        "         \n",
        "        # Print a blank line\n",
        "        print()\n",
        "\n",
        "# Program starts running here with the main method  \n",
        "main()"
      ],
      "execution_count": null,
      "outputs": [
        {
          "output_type": "stream",
          "text": [
            "Initial estimate is: [430808.701  46145.169      0.908]\n",
            "pk minus 1 is [[0.36 0.   0.  ]\n",
            " [0.   0.36 0.  ]\n",
            " [0.   0.   0.  ]]\n",
            "Timestep k=1\n",
            "process_noise: -0.7970312137805312 -1.6857473359017046 0.006718682237982132\n",
            "State Estimate Before EKF, based only on input signal and state at time t-1 =[431023.268  46311.744      0.918]\n",
            "Observation residual=[431019.172  46312.148      0.88 ]\n",
            "State Estimate After EKF=[431020.562  46311.631      0.898]\n",
            "\n",
            "Timestep k=2\n",
            "process_noise: -1.4294778357696778 -0.6304120596480818 0.012919404425560834\n",
            "State Estimate Before EKF, based only on input signal and state at time t-1 =[431238.758  46486.068      0.882]\n",
            "Observation residual=[431236.309  46484.804      0.925]\n",
            "State Estimate After EKF=[431236.892  46484.928      0.907]\n",
            "\n",
            "Timestep k=3\n",
            "process_noise: -0.8546473842057487 -0.7776268061315764 -0.0006169468708128464\n",
            "State Estimate Before EKF, based only on input signal and state at time t-1 =[431457.533  46657.43       0.952]\n",
            "Observation residual=[431459.263  46663.123      0.911]\n",
            "State Estimate After EKF=[431458.23   46660.573      0.926]\n",
            "\n",
            "Timestep k=4\n",
            "process_noise: -0.6391058057092033 1.0822302848520515 0.009046210304202192\n",
            "State Estimate Before EKF, based only on input signal and state at time t-1 =[431676.285  46826.165      0.921]\n",
            "Observation residual=[431616.254  46788.078      0.932]\n",
            "State Estimate After EKF=[431638.821  46802.26       0.927]\n",
            "\n",
            "Timestep k=5\n",
            "process_noise: 1.1042303926232895 0.04554153291126634 -0.011638031122108636\n",
            "State Estimate Before EKF, based only on input signal and state at time t-1 =[431749.347  46884.461      0.936]\n",
            "Observation residual=[431709.099  46853.033      1.016]\n",
            "State Estimate After EKF=[431724.102  46864.667      0.984]\n",
            "\n",
            "Timestep k=6\n",
            "process_noise: 1.6905120676645575 -0.7910867043460967 0.011850599718002933\n",
            "State Estimate Before EKF, based only on input signal and state at time t-1 =[431802.652  46914.953      1.079]\n",
            "Observation residual=[431784.58   46894.357      1.307]\n",
            "State Estimate After EKF=[431791.112  46901.853      1.219]\n",
            "\n",
            "Timestep k=7\n",
            "process_noise: -0.7778561671075361 0.2038536430740871 -0.014559749237941016\n",
            "State Estimate Before EKF, based only on input signal and state at time t-1 =[431869.187  46931.013      1.504]\n",
            "Observation residual=[431852.599  46926.664      1.072]\n",
            "State Estimate After EKF=[431858.564  46927.955      1.236]\n",
            "\n",
            "Timestep k=8\n",
            "process_noise: 0.5698843675451365 0.7449290696101107 -0.007672526837669923\n",
            "State Estimate Before EKF, based only on input signal and state at time t-1 =[431909.026  46946.068      0.966]\n",
            "Observation residual=[431875.653  46915.968      1.185]\n",
            "State Estimate After EKF=[431888.03   46927.094      1.1  ]\n",
            "\n",
            "Timestep k=9\n",
            "process_noise: 1.0367564826872848 -0.8315714235523388 0.01597379074420341\n",
            "State Estimate Before EKF, based only on input signal and state at time t-1 =[431914.743  46939.321      1.217]\n",
            "Observation residual=[431963.771  46960.85       0.976]\n",
            "State Estimate After EKF=[431944.673  46952.256      1.067]\n",
            "\n",
            "Timestep k=10\n",
            "process_noise: -0.4514083308049928 0.7844034615454664 -0.00533123025313612\n",
            "State Estimate Before EKF, based only on input signal and state at time t-1 =[432081.596  47028.825      0.879]\n",
            "Observation residual=[432132.678  47081.586      0.955]\n",
            "State Estimate After EKF=[432112.796  47061.062      0.925]\n",
            "\n",
            "Timestep k=11\n",
            "process_noise: -0.6875035651993108 0.5399908065610883 0.0019507529177251524\n",
            "State Estimate Before EKF, based only on input signal and state at time t-1 =[432324.645  47221.888      0.903]\n",
            "Observation residual=[432349.964  47243.172      0.958]\n",
            "State Estimate After EKF=[432339.922  47234.671      0.936]\n",
            "\n",
            "Timestep k=12\n",
            "process_noise: -0.8399749076201011 0.9661494888473328 -0.020209786966871934\n",
            "State Estimate Before EKF, based only on input signal and state at time t-1 =[432568.128  47404.33       0.919]\n",
            "Observation residual=[432573.067  47410.421      0.96 ]\n",
            "State Estimate After EKF=[432570.81   47407.724      0.943]\n",
            "\n",
            "Timestep k=13\n",
            "process_noise: -1.4100890161756552 -0.25368812808194724 0.000564005341743977\n",
            "State Estimate Before EKF, based only on input signal and state at time t-1 =[432800.013  47574.716      0.946]\n",
            "Observation residual=[432802.872  47581.13       0.956]\n",
            "State Estimate After EKF=[432801.409  47578.309      0.951]\n",
            "\n",
            "Timestep k=14\n",
            "process_noise: 1.4044705471669132 1.0444410637708008 -0.010748310207736863\n",
            "State Estimate Before EKF, based only on input signal and state at time t-1 =[433022.43   47735.989      0.937]\n",
            "Observation residual=[433021.882  47739.435      0.956]\n",
            "State Estimate After EKF=[433021.721  47737.748      0.948]\n",
            "\n",
            "Timestep k=15\n",
            "process_noise: 0.013562171494789709 -0.02290883207400352 -0.0003349315757553208\n",
            "State Estimate Before EKF, based only on input signal and state at time t-1 =[433250.154  47901.769      0.948]\n",
            "Observation residual=[433252.533  47909.063      0.972]\n",
            "State Estimate After EKF=[433251.253  47905.906      0.962]\n",
            "\n",
            "Timestep k=16\n",
            "process_noise: -0.25576656622619925 0.3200433257280546 0.01863662137152891\n",
            "State Estimate Before EKF, based only on input signal and state at time t-1 =[433469.329  48058.525      0.996]\n",
            "Observation residual=[433469.791  48069.571      0.99 ]\n",
            "State Estimate After EKF=[433469.244  48064.981      0.991]\n",
            "\n",
            "Timestep k=17\n",
            "process_noise: 2.3268779576660235 -1.5562433858338527 0.007388929168651437\n",
            "State Estimate Before EKF, based only on input signal and state at time t-1 =[433700.481  48213.392      1.016]\n",
            "Observation residual=[433692.884  48234.634      0.972]\n",
            "State Estimate After EKF=[433695.415  48226.15       0.988]\n",
            "\n",
            "Timestep k=18\n",
            "process_noise: 0.5829178843068186 -0.1528065771686066 -0.013918433808622423\n",
            "State Estimate Before EKF, based only on input signal and state at time t-1 =[433930.464  48380.622      0.956]\n",
            "Observation residual=[433916.793  48400.83       0.956]\n",
            "State Estimate After EKF=[433921.644  48392.74       0.955]\n",
            "\n",
            "Timestep k=19\n",
            "process_noise: -0.06390684179763559 -1.2450215858015907 0.022315965215652198\n",
            "State Estimate Before EKF, based only on input signal and state at time t-1 =[434147.969  48551.564      0.962]\n",
            "Observation residual=[434139.826  48568.127      0.923]\n",
            "State Estimate After EKF=[434142.566  48561.429      0.937]\n",
            "\n",
            "Timestep k=20\n",
            "process_noise: -1.7347916204742395 1.3577158522849924 -0.020064148037302606\n",
            "State Estimate Before EKF, based only on input signal and state at time t-1 =[434361.339  48724.856      0.884]\n",
            "State Estimate After EKF=[434361.339  48724.856      0.884]\n",
            "\n",
            "Timestep k=21\n",
            "process_noise: -0.2705455339551557 0.5624712301271363 0.006795363962040423\n",
            "State Estimate Before EKF, based only on input signal and state at time t-1 =[434577.641  48903.091      0.891]\n",
            "State Estimate After EKF=[434577.641  48903.091      0.891]\n",
            "\n",
            "Timestep k=22\n",
            "process_noise: -0.1863593377208914 1.1243634428310512 0.004660156075304574\n",
            "State Estimate Before EKF, based only on input signal and state at time t-1 =[434792.162  49077.93       0.895]\n",
            "State Estimate After EKF=[434792.162  49077.93       0.895]\n",
            "\n",
            "Timestep k=23\n",
            "process_noise: -1.0879982582474972 -1.8542206327541209 -0.005492682654270081\n",
            "State Estimate Before EKF, based only on input signal and state at time t-1 =[435003.51  49246.32      0.89]\n",
            "State Estimate After EKF=[435003.51  49246.32      0.89]\n",
            "\n",
            "Timestep k=24\n",
            "process_noise: 0.8884667172431285 0.5075353648284492 -0.007710955755875344\n",
            "State Estimate Before EKF, based only on input signal and state at time t-1 =[435218.962  49420.721      0.882]\n",
            "State Estimate After EKF=[435218.962  49420.721      0.882]\n",
            "\n",
            "Timestep k=25\n",
            "process_noise: -0.41334433073224874 -1.03788432062686 0.0010855952109299117\n",
            "State Estimate Before EKF, based only on input signal and state at time t-1 =[435404.351  49572.656      0.883]\n",
            "State Estimate After EKF=[435404.351  49572.656      0.883]\n",
            "\n",
            "Timestep k=26\n",
            "process_noise: 1.4693524348478186 0.2834963566825718 -0.026677841878938364\n",
            "State Estimate Before EKF, based only on input signal and state at time t-1 =[435619.226  49748.25       0.856]\n",
            "State Estimate After EKF=[435619.226  49748.25       0.856]\n",
            "\n",
            "Timestep k=27\n",
            "process_noise: 0.6518592335625976 1.5694579844236698 0.0015052693990474065\n",
            "State Estimate Before EKF, based only on input signal and state at time t-1 =[435828.532  49930.761      0.858]\n",
            "State Estimate After EKF=[435828.532  49930.761      0.858]\n",
            "\n",
            "Timestep k=28\n",
            "process_noise: 0.47410262691493166 1.417653832184603 0.000335419187936937\n",
            "State Estimate Before EKF, based only on input signal and state at time t-1 =[436037.932  50112.805      0.858]\n",
            "State Estimate After EKF=[436037.932  50112.805      0.858]\n",
            "\n",
            "Timestep k=29\n",
            "process_noise: -0.035036968363285965 -1.6081618264861826 0.00036199696531794885\n",
            "State Estimate Before EKF, based only on input signal and state at time t-1 =[436249.869  50294.333      0.859]\n",
            "State Estimate After EKF=[436249.869  50294.333      0.859]\n",
            "\n",
            "Timestep k=30\n",
            "process_noise: -1.2279104317816707 0.5173526355970687 -0.004394899950336431\n",
            "State Estimate Before EKF, based only on input signal and state at time t-1 =[436454.707  50472.754      0.854]\n",
            "State Estimate After EKF=[436454.707  50472.754      0.854]\n",
            "\n",
            "Timestep k=31\n",
            "process_noise: -2.038431350507993 0.4179716643852423 -0.0005945158533911648\n",
            "State Estimate Before EKF, based only on input signal and state at time t-1 =[436690.676  50680.484      0.854]\n",
            "State Estimate After EKF=[436690.676  50680.484      0.854]\n",
            "\n",
            "Timestep k=32\n",
            "process_noise: 1.1962854759175225 1.2063411450198194 0.019101044292816997\n",
            "State Estimate Before EKF, based only on input signal and state at time t-1 =[436897.048  50860.619      0.873]\n",
            "State Estimate After EKF=[436897.048  50860.619      0.873]\n",
            "\n",
            "Timestep k=33\n",
            "process_noise: 1.0174435169081057 -0.10060828449903209 -0.002764529347059061\n",
            "State Estimate Before EKF, based only on input signal and state at time t-1 =[437142.891  51065.926      0.87 ]\n",
            "State Estimate After EKF=[437142.891  51065.926      0.87 ]\n",
            "\n",
            "Timestep k=34\n",
            "process_noise: -0.862768294763125 -0.7889035180622901 -0.01810113862371887\n",
            "State Estimate Before EKF, based only on input signal and state at time t-1 =[437350.099  51240.69       0.852]\n",
            "State Estimate After EKF=[437350.099  51240.69       0.852]\n",
            "\n",
            "Timestep k=35\n",
            "process_noise: 0.2485501015567195 0.4792730648256276 -0.0011649641353786923\n",
            "State Estimate Before EKF, based only on input signal and state at time t-1 =[437590.835  51451.641      0.851]\n",
            "State Estimate After EKF=[437590.835  51451.641      0.851]\n",
            "\n",
            "Timestep k=36\n",
            "process_noise: -0.2162277749319596 0.17108374635508625 0.0016470094972764956\n",
            "State Estimate Before EKF, based only on input signal and state at time t-1 =[437798.235  51633.943      0.852]\n",
            "State Estimate After EKF=[437798.235  51633.943      0.852]\n",
            "\n",
            "Timestep k=37\n",
            "process_noise: 0.2657693248462059 -0.7343740203249771 0.004649197915118099\n",
            "State Estimate Before EKF, based only on input signal and state at time t-1 =[438006.416  51814.998      0.857]\n",
            "State Estimate After EKF=[438006.416  51814.998      0.857]\n",
            "\n",
            "Timestep k=38\n",
            "process_noise: -0.7046886080565301 1.271756581083014 -0.00427334483225519\n",
            "State Estimate Before EKF, based only on input signal and state at time t-1 =[438211.488  51994.506      0.853]\n",
            "State Estimate After EKF=[438211.488  51994.506      0.853]\n",
            "\n",
            "Timestep k=39\n",
            "process_noise: 0.9335029416987698 -0.3624704114002275 0.005501404026807667\n",
            "State Estimate Before EKF, based only on input signal and state at time t-1 =[438423.377  52178.45       0.858]\n",
            "State Estimate After EKF=[438423.377  52178.45       0.858]\n",
            "\n",
            "Timestep k=40\n",
            "process_noise: -1.1995974433876992 0.5599752374648261 0.0009058418434003711\n",
            "State Estimate Before EKF, based only on input signal and state at time t-1 =[438631.158  52359.574      0.859]\n",
            "State Estimate After EKF=[438631.158  52359.574      0.859]\n",
            "\n",
            "Timestep k=41\n",
            "process_noise: 1.3852405874146434 -1.4681774555551113 -0.0030797749913344303\n",
            "State Estimate Before EKF, based only on input signal and state at time t-1 =[438841.688  52538.48       0.856]\n",
            "State Estimate After EKF=[438841.688  52538.48       0.856]\n",
            "\n",
            "Timestep k=42\n",
            "process_noise: -0.47798376734205683 0.11246182725667453 -0.004947633842004691\n",
            "State Estimate Before EKF, based only on input signal and state at time t-1 =[439022.979  52696.336      0.851]\n",
            "State Estimate After EKF=[439022.979  52696.336      0.851]\n",
            "\n",
            "Timestep k=43\n",
            "process_noise: 0.4671674906865022 -1.7548137855910544 0.00022524331917037613\n",
            "State Estimate Before EKF, based only on input signal and state at time t-1 =[439228.169  52874.028      0.851]\n",
            "State Estimate After EKF=[439228.169  52874.028      0.851]\n",
            "\n",
            "Timestep k=44\n",
            "process_noise: -1.1179210656868837 1.7027358358917275 -0.0019253824086266406\n",
            "State Estimate Before EKF, based only on input signal and state at time t-1 =[439434.781  53057.731      0.849]\n",
            "State Estimate After EKF=[439434.781  53057.731      0.849]\n",
            "\n",
            "Timestep k=45\n",
            "process_noise: -0.6207902320913542 1.2289100584567763 -0.0026182790649220754\n",
            "State Estimate Before EKF, based only on input signal and state at time t-1 =[439641.54   53241.36       0.847]\n",
            "State Estimate After EKF=[439641.54   53241.36       0.847]\n",
            "\n",
            "Timestep k=46\n",
            "process_noise: 0.8456633589422283 -1.1202695948320138 0.0038141228560546196\n",
            "State Estimate Before EKF, based only on input signal and state at time t-1 =[439846.331  53420.569      0.851]\n",
            "State Estimate After EKF=[439846.331  53420.569      0.851]\n",
            "\n",
            "Timestep k=47\n",
            "process_noise: 1.5373433638311769 0.318822866871075 -0.009216269895430377\n",
            "State Estimate Before EKF, based only on input signal and state at time t-1 =[440058.432  53605.642      0.841]\n",
            "State Estimate After EKF=[440058.432  53605.642      0.841]\n",
            "\n",
            "Timestep k=48\n",
            "process_noise: 0.6710374299757325 -0.49715809746672546 -0.005434426956060354\n",
            "State Estimate Before EKF, based only on input signal and state at time t-1 =[440262.072  53786.573      0.836]\n",
            "State Estimate After EKF=[440262.072  53786.573      0.836]\n",
            "\n",
            "Timestep k=49\n",
            "process_noise: 0.7164837296684037 -0.1311371563496359 -0.004005807287583206\n",
            "State Estimate Before EKF, based only on input signal and state at time t-1 =[440467.695  53971.615      0.832]\n",
            "State Estimate After EKF=[440467.695  53971.615      0.832]\n",
            "\n",
            "Timestep k=50\n",
            "process_noise: 0.27977804962277886 -1.1818877106232057 0.009120497721636214\n",
            "State Estimate Before EKF, based only on input signal and state at time t-1 =[440701.304  54182.997      0.841]\n",
            "State Estimate After EKF=[440701.304  54182.997      0.841]\n",
            "\n",
            "Timestep k=51\n",
            "process_noise: 1.4085571183183265 0.23542433203464516 -0.005777160519245187\n",
            "State Estimate Before EKF, based only on input signal and state at time t-1 =[440732.12   54209.536      0.835]\n",
            "State Estimate After EKF=[440732.12   54209.536      0.835]\n",
            "\n",
            "Timestep k=52\n",
            "process_noise: -0.8643003767807049 -0.7744322662451599 0.010305820191487316\n",
            "State Estimate Before EKF, based only on input signal and state at time t-1 =[440936.04   54394.071      0.846]\n",
            "State Estimate After EKF=[440936.04   54394.071      0.846]\n",
            "\n",
            "Timestep k=53\n",
            "process_noise: -1.0969960164584256 -0.17639559567252078 0.006267085309029465\n",
            "State Estimate Before EKF, based only on input signal and state at time t-1 =[441144.579  54579.701      0.852]\n",
            "State Estimate After EKF=[441144.579  54579.701      0.852]\n",
            "\n",
            "Timestep k=54\n",
            "process_noise: 0.07616523612114476 -0.8205589285791651 -0.01579469763418168\n",
            "State Estimate Before EKF, based only on input signal and state at time t-1 =[441349.513  54758.172      0.836]\n",
            "State Estimate After EKF=[441349.513  54758.172      0.836]\n",
            "\n",
            "Timestep k=55\n",
            "process_noise: -0.19128273806306448 -0.6517936727053706 0.0012153209643242405\n",
            "State Estimate Before EKF, based only on input signal and state at time t-1 =[441557.177  54945.315      0.837]\n",
            "State Estimate After EKF=[441557.177  54945.315      0.837]\n",
            "\n",
            "Timestep k=56\n",
            "process_noise: 0.017320807568139987 -0.21065434738946884 0.005115833639195802\n",
            "State Estimate Before EKF, based only on input signal and state at time t-1 =[441762.348  55130.005      0.842]\n",
            "State Estimate After EKF=[441762.348  55130.005      0.842]\n",
            "\n",
            "Timestep k=57\n",
            "process_noise: -0.6671482803453788 0.14767459263049534 -0.007645728032620312\n",
            "State Estimate Before EKF, based only on input signal and state at time t-1 =[441941.279  55290.364      0.835]\n",
            "State Estimate After EKF=[441941.279  55290.364      0.835]\n",
            "\n"
          ],
          "name": "stdout"
        }
      ]
    },
    {
      "cell_type": "code",
      "metadata": {
        "colab": {
          "base_uri": "https://localhost:8080/",
          "height": 903
        },
        "id": "WOjvsDxAwat8",
        "outputId": "4c31aa88-21f0-4fd6-b102-f1d1a82e594d"
      },
      "source": [
        "#plot raw sensor observations vs filtered\n",
        "n_sensor = []\n",
        "e_sensor = []\n",
        "n_filtered = []\n",
        "e_filtered = []\n",
        "n_original = []\n",
        "e_original = []\n",
        "\n",
        "# Plot observations \n",
        "for k,row in enumerate(zk_vector_holder,start = 1):\n",
        "  if row[0] == 0:\n",
        "    continue\n",
        "  n_sensor.append(row[1])\n",
        "  e_sensor.append(row[0])\n",
        "\n",
        "# Plot \"missing\" observations\n",
        "for k,row in enumerate(original_observations,start = 1):\n",
        "  if k > 20:\n",
        "    n_original.append(row[1])\n",
        "    e_original.append(row[0])\n",
        "\n",
        "# Plot Kalman predictions\n",
        "for row in filtered_observations:\n",
        "  n_filtered.append(row[1])\n",
        "  e_filtered.append(row[0])\n",
        "\n",
        "# Set plot size\n",
        "plt.figure(figsize=(20,20))\n",
        "\n",
        "# Sensor reading\n",
        "plt.scatter(e_sensor,n_sensor, color = \"blue\", marker = \"+\")\n",
        "\n",
        "# \"Missing\" observations\n",
        "plt.scatter(e_original,n_original, color = \"green\", marker = \"o\")\n",
        "\n",
        "# Kalman filter prediction\n",
        "plt.scatter(e_filtered,n_filtered, color = \"red\", marker = \"x\")\n",
        "\n",
        "# Plot positions\n",
        "plt.show\n",
        "\n",
        "pd_filtered_observations = pd.DataFrame(filtered_observations)\n",
        "pd_filtered_observations.to_csv('IMO9657064_prediction.csv', header=['LAT', 'LON', 'Heading'])\n"
      ],
      "execution_count": null,
      "outputs": [
        {
          "output_type": "display_data",
          "data": {
            "image/png": "[encoded data removed]",
            "text/plain": [
              "<Figure size 1440x1440 with 1 Axes>"
            ]
          },
          "metadata": {
            "tags": [],
            "needs_background": "light"
          }
        }
      ]
    },
    {
      "cell_type": "code",
      "metadata": {
        "colab": {
          "base_uri": "https://localhost:8080/",
          "height": 949
        },
        "id": "n1GQBjQ_e_nm",
        "outputId": "8ac8a8eb-2d55-4908-8465-34baa98cc55b"
      },
      "source": [
        "# Calculate differences dx and dy in coordinates between predicted and measured positions\n",
        "\n",
        "# Northing differences\n",
        "n_original_numpy = np.array(n_original)\n",
        "n_filtered_numpy = np.array(n_filtered[19:])\n",
        "n_difference = n_original_numpy - n_filtered_numpy\n",
        "print(len(n_original_numpy))\n",
        "print(len(n_filtered_numpy))\n",
        "print(n_difference)\n",
        "\n",
        "# Easting differences\n",
        "e_original_numpy = np.array(e_original)\n",
        "e_filtered_numpy = np.array(e_filtered[19:])\n",
        "e_difference = e_original_numpy - e_filtered_numpy\n",
        "print(len(e_original_numpy))\n",
        "print(len(e_filtered_numpy))\n",
        "print(e_difference)\n",
        "\n",
        "timeseries = []\n",
        "start = 0\n",
        "# Create time differences for time series\n",
        "for i in range(len(e_original)):\n",
        "  timeseries.append(start)\n",
        "  start = start + 70\n",
        "print(len(timeseries))\n",
        "print(np.absolute(e_difference))\n",
        "\n",
        "# convert timeseries to minutes\n",
        "timeseries[:] = [x / 60 for x in timeseries]\n",
        "\n",
        "# Plot graph which shows absolute difference for dx and dy for predicted\n",
        "# points, time is in minutes\n",
        "plt.figure(figsize=(10,10))\n",
        "plt.plot(timeseries,np.absolute(e_difference), color = \"blue\")\n",
        "plt.plot(timeseries,np.absolute(n_difference), color = \"red\")"
      ],
      "execution_count": null,
      "outputs": [
        {
          "output_type": "stream",
          "text": [
            "38\n",
            "38\n",
            "[  10.589    4.245   -2.151  -32.809  -87.438  -92.471  -98.442 -111.291\n",
            " -124.778 -136.63  -144.258 -157.248 -172.236 -178.204 -187.79  -198.258\n",
            " -209.659 -219.805 -234.06  -241.387 -251.548 -259.485 -271.427 -279.23\n",
            " -293.038 -304.559 -317.315 -325.681 -340.161 -353.083 -370.564 -373.142\n",
            " -394.325 -406.553 -421.867 -435.594 -451.432 -467.975]\n",
            "38\n",
            "38\n",
            "[  2.356  16.603  25.91   -1.696 -44.09  -30.679 -19.243  -0.555  18.049\n",
            "  34.085  57.189  82.568  98.295 121.307 137.022 165.94  189.799 212.865\n",
            " 233.212 260.06  285.187 307.555 325.772 354.326 381.447 407.523 429.74\n",
            " 457.98  480.482 506.805 540.251 542.821 576.067 607.029 628.245 660.06\n",
            " 687.677 709.859]\n",
            "38\n",
            "[  2.356  16.603  25.91    1.696  44.09   30.679  19.243   0.555  18.049\n",
            "  34.085  57.189  82.568  98.295 121.307 137.022 165.94  189.799 212.865\n",
            " 233.212 260.06  285.187 307.555 325.772 354.326 381.447 407.523 429.74\n",
            " 457.98  480.482 506.805 540.251 542.821 576.067 607.029 628.245 660.06\n",
            " 687.677 709.859]\n"
          ],
          "name": "stdout"
        },
        {
          "output_type": "execute_result",
          "data": {
            "text/plain": [
              "[<matplotlib.lines.Line2D at 0x7fa16fc4c7d0>]"
            ]
          },
          "metadata": {
            "tags": []
          },
          "execution_count": 52
        },
        {
          "output_type": "display_data",
          "data": {
            "image/png": "[encoded data removed]",
            "text/plain": [
              "<Figure size 720x720 with 1 Axes>"
            ]
          },
          "metadata": {
            "tags": [],
            "needs_background": "light"
          }
        }
      ]
    },
    {
      "cell_type": "code",
      "metadata": {
        "id": "w6sEWHS9gyyu"
      },
      "source": [
        "# Create final file which will hold first 20 points as original points\n",
        "# and the rest will be prediction with the filter\n",
        "# It will have format [E, N, Heading, Timestamp]\n",
        "\n",
        "final_file = zk_vector_holder[0:19]\n",
        "\n",
        "for i in range(19,len(filtered_observations)):\n",
        "  final_file.append(filtered_observations[i].tolist())\n",
        "\n",
        "# Now final file has first 20 points as recorded by AIS and the rest\n",
        "# is predictions\n",
        "# Now let's add time differences\n",
        "\n",
        "for k,row in enumerate(final_file,start=1):\n",
        "  row.append(time_holder[k])\n"
      ],
      "execution_count": null,
      "outputs": []
    },
    {
      "cell_type": "code",
      "metadata": {
        "id": "4sE8fDadooj5"
      },
      "source": [
        "# Write final_file as csv\n",
        "\n",
        "# Fields\n",
        "#fields = [\"E\", \"N\", \"Heading\", \"Time\"]\n",
        "\n",
        "# Choose filename\n",
        "#filename = \"IMO8940581_predicted_50_01.csv\"\n",
        "\n",
        "#with open(\"/content/drive/MyDrive/Master/ShipRouting/nikola_test\" + filename, \"w\") as csvfile:\n",
        "   # creating a csv writer object \n",
        "    #csvwriter = csv.writer(csvfile) \n",
        "        \n",
        "    # writing the fields \n",
        "    #csvwriter.writerow(fields) \n",
        "        \n",
        "    # writing the data rows \n",
        "    #csvwriter.writerows(final_file)\n"
      ],
      "execution_count": null,
      "outputs": []
    }
  ]
}